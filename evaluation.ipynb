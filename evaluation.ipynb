{
 "cells": [
  {
   "cell_type": "code",
   "execution_count": 21,
   "metadata": {},
   "outputs": [],
   "source": [
    "%load_ext autoreload\n",
    "%autoreload 2\n",
    "\n",
    "import matplotlib.pyplot as plt\n",
    "import ml_collections \n",
    "import deepchest\n",
    "import os"
   ]
  },
  {
   "cell_type": "code",
   "execution_count": 22,
   "metadata": {},
   "outputs": [],
   "source": [
    "import copy\n",
    "import time\n",
    "\n",
    "import torch\n",
    "import torchvision\n",
    "import torch.nn as nn\n",
    "import torch.nn.functional as F\n",
    "import torch.optim as optim\n",
    "from torch.optim import lr_scheduler"
   ]
  },
  {
   "cell_type": "code",
   "execution_count": 23,
   "metadata": {},
   "outputs": [],
   "source": [
    "config = ml_collections.ConfigDict()\n",
    "\n",
    "config.batch_size = 32\n",
    "config.num_steps = 300\n",
    "\n",
    "# See preprocessing.py, if you replace with \";\" no preprocessing is done\n",
    "config.preprocessing_train_eval = \"independent_dropout(.2);\"\n",
    "\n",
    "config.use_validation_split = False\n",
    "\n",
    "# If validation split is false, then train will have 4/5 of data and test 1/5\n",
    "# If validation split is true, then train will have 3/5 of data, test 1/5 and val 1/5\n",
    "config.num_folds = 5\n",
    "\n",
    "# gpu workers\n",
    "config.num_workers = 0\n",
    "\n",
    "# dataset\n",
    "config.images_directory = \"dataset/images.ds1/\"\n",
    "config.labels_file = \"dataset/labels.ds1/diagnostic.csv\"\n",
    "\n",
    "# Fold seed\n",
    "config.random_state = 0\n",
    "\n",
    "# Where the indices are saved\n",
    "config.save_dir = \"model_saved/\"\n",
    "config.export_folds_indices_file = \"indices.csv\"\n",
    "\n",
    "# Don't modify these (should not have been in the config)\n",
    "config.test_fold_index = 0\n",
    "config.delta_from_test_index_to_validation_index = 1"
   ]
  },
  {
   "cell_type": "code",
   "execution_count": null,
   "metadata": {},
   "outputs": [],
   "source": [
    "model = Net()\n",
    "checkpoint = torch.load(os.path.join(\n",
    "            config.save_dir,\n",
    "            f\"best_model_smaller_resnet_sigmoid_epoch{0}_test_fold_index{config.test_fold_index}.ds1\",\n",
    "        ))"
   ]
  },
  {
   "cell_type": "code",
   "execution_count": 4,
   "metadata": {},
   "outputs": [
    {
     "name": "stdout",
     "output_type": "stream",
     "text": [
      "dataset 1 label 1 epoch 0: 0.7395833134651184\t(min 0.5625 index 2, max 0.84375 index 1)\n",
      "dataset 1 label 1 epoch 1: 0.78125\t(min 0.65625 index 0, max 0.84375 index 2)\n",
      "dataset 1 label 1 epoch 2: 0.78125\t(min 0.65625 index 0, max 0.90625 index 1)\n",
      "dataset 1 label 1 epoch 3: 0.78125\t(min 0.65625 index 2, max 0.90625 index 1)\n",
      "+++++++++++++\n",
      "dataset 1 label 2 epoch 0: 0.5\t(min 0.46875 index 0, max 0.5625 index 3)\n",
      "dataset 1 label 2 epoch 1: 0.5\t(min 0.46875 index 0, max 0.5625 index 1)\n",
      "dataset 1 label 2 epoch 2: 0.48750001192092896\t(min 0.46875 index 2, max 0.53125 index 0)\n",
      "dataset 1 label 2 epoch 3: 0.48124998807907104\t(min 0.4375 index 3, max 0.53125 index 4)\n",
      "+++++++++++++\n",
      "dataset 2 label 2 epoch 0: 0.5625\t(min 0.5 index 1, max 0.625 index 2)\n",
      "dataset 2 label 2 epoch 1: 0.5520833134651184\t(min 0.5 index 0, max 0.59375 index 1)\n",
      "dataset 2 label 2 epoch 2: 0.5416666865348816\t(min 0.5 index 1, max 0.5625 index 2)\n",
      "dataset 2 label 2 epoch 3: 0.5416666865348816\t(min 0.5 index 0, max 0.5625 index 2)\n",
      "+++++++++++++\n"
     ]
    }
   ],
   "source": [
    "import glob\n",
    "for ds in [1, 2]:\n",
    "    if ds == 1:\n",
    "        lb = [1, 2]\n",
    "    else:\n",
    "        lb = [2]\n",
    "    for l in lb:\n",
    "        for epoch in range(4):\n",
    "            checkpoint_path = os.path.join(\n",
    "                config.save_dir,\n",
    "                f\"best_model_smaller_resnet_sigmoid_epoch{epoch}_test_fold_index*{'.ds'+str(ds)+f'-{l}'}\"\n",
    "                # f\"best_model_resnet18_sigmoid_epoch{epoch}_test_fold_index*{'.ds'+str(ds)+'-1'}\"\n",
    "                # {'.ds'+str(ds)+'-1' if ds == 1 else ''}\",\n",
    "            )\n",
    "            list_checkpoints = glob.glob(checkpoint_path)\n",
    "            accs = []\n",
    "            for file in list_checkpoints:\n",
    "                checkpoint = torch.load(file)\n",
    "                accs.append(checkpoint['acc'])\n",
    "            min_acc = min([(a.data, i) for i, a in enumerate(accs)])[0]\n",
    "            min_idx = min([(a.data, i) for i, a in enumerate(accs)])[1]\n",
    "            max_acc = max([(a.data, i) for i, a in enumerate(accs)])[0]\n",
    "            max_idx = max([(a.data, i) for i, a in enumerate(accs)])[1]\n",
    "            print(f'dataset {ds} label {l} epoch {epoch}: {torch.mean(torch.Tensor(accs))}\\t(min {min_acc} index {min_idx}, max {max_acc} index {max_idx})')\n",
    "        print('+++++++++++++')"
   ]
  },
  {
   "cell_type": "code",
   "execution_count": null,
   "metadata": {},
   "outputs": [],
   "source": [
    "from model import model\n",
    "checkpoint = torch.load(os.path.join(\n",
    "            config.save_dir,\n",
    "            f\"best_model_smaller_resnet_sigmoid_epoch3_test_fold_index3.ds1-2\",\n",
    "        ))\n",
    "\n",
    "net = model.get_smaller_resnet()\n",
    "net.load_state_dict(checkpoint['model_state_dict'])\n",
    "_ = net.eval()"
   ]
  },
  {
   "cell_type": "code",
   "execution_count": 24,
   "metadata": {},
   "outputs": [
    {
     "name": "stdout",
     "output_type": "stream",
     "text": [
      "idx 0\n",
      "Split infos:\n"
     ]
    },
    {
     "data": {
      "text/html": [
       "<pre style=\"white-space:pre;overflow-x:auto;line-height:normal;font-family:Menlo,'DejaVu Sans Mono',consolas,'Courier New',monospace\">┏━━━━━━━┳━━━━━━┳━━━━━━━━━━┳━━━━━━━━━━┓\n",
       "┃<span style=\"font-weight: bold\"> split </span>┃<span style=\"font-weight: bold\"> size </span>┃<span style=\"font-weight: bold\"> negative </span>┃<span style=\"font-weight: bold\"> positive </span>┃\n",
       "┡━━━━━━━╇━━━━━━╇━━━━━━━━━━╇━━━━━━━━━━┩\n",
       "│ train │  130 │ 63 (48%) │ 67 (52%) │\n",
       "│ test  │   32 │ 15 (47%) │ 17 (53%) │\n",
       "└───────┴──────┴──────────┴──────────┘\n",
       "</pre>\n"
      ],
      "text/plain": [
       "<rich.jupyter.JupyterRenderable at 0x7ff6ae2fd110>"
      ]
     },
     "metadata": {},
     "output_type": "display_data"
    },
    {
     "name": "stdout",
     "output_type": "stream",
     "text": [
      "model_saved/best_model_smaller_resnet_sigmoid_epoch3_test_fold_index0.ds1-2 \n",
      " 0.9686274509803923\n",
      "===================\n",
      "model_saved/best_model_smaller_resnet_sigmoid_epoch3_test_fold_index0.ds2-2 \n",
      " 0.9529411764705883\n",
      "===================\n",
      "model_saved/best_model_smaller_resnet_sigmoid_epoch0_test_fold_index0.ds2-2 \n",
      " 0.9372549019607843\n",
      "===================\n",
      "model_saved/best_model_smaller_resnet_sigmoid_epoch2_test_fold_index0.ds2-2 \n",
      " 0.9529411764705883\n",
      "===================\n",
      "model_saved/best_model_smaller_resnet_sigmoid_epoch1_test_fold_index0.ds2-2 \n",
      " 0.9450980392156864\n",
      "===================\n",
      "model_saved/best_model_smaller_resnet_sigmoid_epoch3_test_fold_index0.ds1-1 \n",
      " 0.9803921568627452\n",
      "===================\n",
      "model_saved/best_model_smaller_resnet_sigmoid_epoch1_test_fold_index0.ds1-1 \n",
      " 0.9568627450980393\n",
      "===================\n",
      "model_saved/best_model_smaller_resnet_sigmoid_epoch1_test_fold_index0.ds1-2 \n",
      " 0.9450980392156862\n",
      "===================\n",
      "model_saved/best_model_smaller_resnet_sigmoid_epoch0_test_fold_index0.ds1-1 \n",
      " 0.9490196078431373\n",
      "===================\n",
      "model_saved/best_model_smaller_resnet_sigmoid_epoch2_test_fold_index0.ds1-1 \n",
      " 0.9725490196078432\n",
      "===================\n",
      "model_saved/best_model_smaller_resnet_sigmoid_epoch0_test_fold_index0.ds1-2 \n",
      " 0.9137254901960785\n",
      "===================\n",
      "model_saved/best_model_smaller_resnet_sigmoid_epoch2_test_fold_index0.ds1-2 \n",
      " 0.9529411764705883\n",
      "===================\n",
      "+++++++++++++++++++++++++++++++++++++++++++++++++++\n",
      "idx 1\n",
      "Split infos:\n"
     ]
    },
    {
     "data": {
      "text/html": [
       "<pre style=\"white-space:pre;overflow-x:auto;line-height:normal;font-family:Menlo,'DejaVu Sans Mono',consolas,'Courier New',monospace\">┏━━━━━━━┳━━━━━━┳━━━━━━━━━━┳━━━━━━━━━━┓\n",
       "┃<span style=\"font-weight: bold\"> split </span>┃<span style=\"font-weight: bold\"> size </span>┃<span style=\"font-weight: bold\"> negative </span>┃<span style=\"font-weight: bold\"> positive </span>┃\n",
       "┡━━━━━━━╇━━━━━━╇━━━━━━━━━━╇━━━━━━━━━━┩\n",
       "│ train │  130 │ 63 (48%) │ 67 (52%) │\n",
       "│ test  │   32 │ 15 (47%) │ 17 (53%) │\n",
       "└───────┴──────┴──────────┴──────────┘\n",
       "</pre>\n"
      ],
      "text/plain": [
       "<rich.jupyter.JupyterRenderable at 0x7ff7b367f450>"
      ]
     },
     "metadata": {},
     "output_type": "display_data"
    },
    {
     "name": "stdout",
     "output_type": "stream",
     "text": [
      "model_saved/best_model_smaller_resnet_sigmoid_epoch0_test_fold_index1.ds1-1 \n",
      " 0.8745098039215686\n",
      "===================\n",
      "model_saved/best_model_smaller_resnet_sigmoid_epoch1_test_fold_index1.ds1-2 \n",
      " 0.8627450980392156\n",
      "===================\n",
      "model_saved/best_model_smaller_resnet_sigmoid_epoch3_test_fold_index1.ds1-1 \n",
      " 0.8941176470588237\n",
      "===================\n",
      "model_saved/best_model_smaller_resnet_sigmoid_epoch3_test_fold_index1.ds1-2 \n",
      " 0.8823529411764706\n",
      "===================\n",
      "model_saved/best_model_smaller_resnet_sigmoid_epoch0_test_fold_index1.ds1-2 \n",
      " 0.8509803921568627\n",
      "===================\n",
      "model_saved/best_model_smaller_resnet_sigmoid_epoch2_test_fold_index1.ds1-2 \n",
      " 0.8745098039215686\n",
      "===================\n",
      "model_saved/best_model_smaller_resnet_sigmoid_epoch1_test_fold_index1.ds1-1 \n",
      " 0.8627450980392157\n",
      "===================\n",
      "model_saved/best_model_smaller_resnet_sigmoid_epoch2_test_fold_index1.ds1-1 \n",
      " 0.8862745098039215\n",
      "===================\n",
      "+++++++++++++++++++++++++++++++++++++++++++++++++++\n",
      "idx 2\n",
      "Split infos:\n"
     ]
    },
    {
     "data": {
      "text/html": [
       "<pre style=\"white-space:pre;overflow-x:auto;line-height:normal;font-family:Menlo,'DejaVu Sans Mono',consolas,'Courier New',monospace\">┏━━━━━━━┳━━━━━━┳━━━━━━━━━━┳━━━━━━━━━━┓\n",
       "┃<span style=\"font-weight: bold\"> split </span>┃<span style=\"font-weight: bold\"> size </span>┃<span style=\"font-weight: bold\"> negative </span>┃<span style=\"font-weight: bold\"> positive </span>┃\n",
       "┡━━━━━━━╇━━━━━━╇━━━━━━━━━━╇━━━━━━━━━━┩\n",
       "│ train │  129 │ 62 (48%) │ 67 (52%) │\n",
       "│ test  │   33 │ 16 (48%) │ 17 (52%) │\n",
       "└───────┴──────┴──────────┴──────────┘\n",
       "</pre>\n"
      ],
      "text/plain": [
       "<rich.jupyter.JupyterRenderable at 0x7ff6bc770350>"
      ]
     },
     "metadata": {},
     "output_type": "display_data"
    },
    {
     "name": "stdout",
     "output_type": "stream",
     "text": [
      "model_saved/best_model_smaller_resnet_sigmoid_epoch2_test_fold_index2.ds1-2 \n",
      " 0.6985294117647058\n",
      "===================\n",
      "model_saved/best_model_smaller_resnet_sigmoid_epoch1_test_fold_index2.ds1-1 \n",
      " 0.6654411764705883\n",
      "===================\n",
      "model_saved/best_model_smaller_resnet_sigmoid_epoch0_test_fold_index2.ds1-2 \n",
      " 0.6470588235294117\n",
      "===================\n",
      "model_saved/best_model_smaller_resnet_sigmoid_epoch3_test_fold_index2.ds1-2 \n",
      " 0.7316176470588235\n",
      "===================\n",
      "model_saved/best_model_smaller_resnet_sigmoid_epoch1_test_fold_index2.ds1-2 \n",
      " 0.6985294117647058\n",
      "===================\n",
      "model_saved/best_model_smaller_resnet_sigmoid_epoch2_test_fold_index2.ds1-1 \n",
      " 0.6911764705882353\n",
      "===================\n",
      "model_saved/best_model_smaller_resnet_sigmoid_epoch3_test_fold_index2.ds1-1 \n",
      " 0.7169117647058824\n",
      "===================\n",
      "model_saved/best_model_smaller_resnet_sigmoid_epoch0_test_fold_index2.ds1-1 \n",
      " 0.6470588235294117\n",
      "===================\n",
      "+++++++++++++++++++++++++++++++++++++++++++++++++++\n",
      "idx 3\n",
      "Split infos:\n"
     ]
    },
    {
     "data": {
      "text/html": [
       "<pre style=\"white-space:pre;overflow-x:auto;line-height:normal;font-family:Menlo,'DejaVu Sans Mono',consolas,'Courier New',monospace\">┏━━━━━━━┳━━━━━━┳━━━━━━━━━━┳━━━━━━━━━━┓\n",
       "┃<span style=\"font-weight: bold\"> split </span>┃<span style=\"font-weight: bold\"> size </span>┃<span style=\"font-weight: bold\"> negative </span>┃<span style=\"font-weight: bold\"> positive </span>┃\n",
       "┡━━━━━━━╇━━━━━━╇━━━━━━━━━━╇━━━━━━━━━━┩\n",
       "│ train │  129 │ 62 (48%) │ 67 (52%) │\n",
       "│ test  │   33 │ 16 (48%) │ 17 (52%) │\n",
       "└───────┴──────┴──────────┴──────────┘\n",
       "</pre>\n"
      ],
      "text/plain": [
       "<rich.jupyter.JupyterRenderable at 0x7ff6bc725c50>"
      ]
     },
     "metadata": {},
     "output_type": "display_data"
    },
    {
     "name": "stdout",
     "output_type": "stream",
     "text": [
      "model_saved/best_model_smaller_resnet_sigmoid_epoch0_test_fold_index3.ds1-2 \n",
      " 0.8639705882352942\n",
      "===================\n",
      "model_saved/best_model_smaller_resnet_sigmoid_epoch0_test_fold_index3.ds2-2 \n",
      " 0.8602941176470589\n",
      "===================\n",
      "model_saved/best_model_smaller_resnet_sigmoid_epoch2_test_fold_index3.ds1-2 \n",
      " 0.8455882352941176\n",
      "===================\n",
      "model_saved/best_model_smaller_resnet_sigmoid_epoch2_test_fold_index3.ds2-2 \n",
      " 0.8676470588235294\n",
      "===================\n",
      "model_saved/best_model_smaller_resnet_sigmoid_epoch3_test_fold_index3.ds2-2 \n",
      " 0.8455882352941176\n",
      "===================\n",
      "model_saved/best_model_smaller_resnet_sigmoid_epoch1_test_fold_index3.ds1-2 \n",
      " 0.8345588235294117\n",
      "===================\n",
      "model_saved/best_model_smaller_resnet_sigmoid_epoch3_test_fold_index3.ds1-2 \n",
      " 0.8345588235294118\n",
      "===================\n",
      "model_saved/best_model_smaller_resnet_sigmoid_epoch1_test_fold_index3.ds2-2 \n",
      " 0.8676470588235294\n",
      "===================\n",
      "+++++++++++++++++++++++++++++++++++++++++++++++++++\n",
      "idx 4\n",
      "Split infos:\n"
     ]
    },
    {
     "data": {
      "text/html": [
       "<pre style=\"white-space:pre;overflow-x:auto;line-height:normal;font-family:Menlo,'DejaVu Sans Mono',consolas,'Courier New',monospace\">┏━━━━━━━┳━━━━━━┳━━━━━━━━━━┳━━━━━━━━━━┓\n",
       "┃<span style=\"font-weight: bold\"> split </span>┃<span style=\"font-weight: bold\"> size </span>┃<span style=\"font-weight: bold\"> negative </span>┃<span style=\"font-weight: bold\"> positive </span>┃\n",
       "┡━━━━━━━╇━━━━━━╇━━━━━━━━━━╇━━━━━━━━━━┩\n",
       "│ train │  130 │ 62 (48%) │ 68 (52%) │\n",
       "│ test  │   32 │ 16 (50%) │ 16 (50%) │\n",
       "└───────┴──────┴──────────┴──────────┘\n",
       "</pre>\n"
      ],
      "text/plain": [
       "<rich.jupyter.JupyterRenderable at 0x7ff6bce06e90>"
      ]
     },
     "metadata": {},
     "output_type": "display_data"
    },
    {
     "name": "stdout",
     "output_type": "stream",
     "text": [
      "model_saved/best_model_smaller_resnet_sigmoid_epoch2_test_fold_index4.ds1-2 \n",
      " 0.8515625\n",
      "===================\n",
      "model_saved/best_model_smaller_resnet_sigmoid_epoch1_test_fold_index4.ds1-2 \n",
      " 0.85546875\n",
      "===================\n",
      "model_saved/best_model_smaller_resnet_sigmoid_epoch2_test_fold_index4.ds2-2 \n",
      " 0.8828125\n",
      "===================\n",
      "model_saved/best_model_smaller_resnet_sigmoid_epoch3_test_fold_index4.ds2-2 \n",
      " 0.91015625\n",
      "===================\n",
      "model_saved/best_model_smaller_resnet_sigmoid_epoch0_test_fold_index4.ds1-2 \n",
      " 0.8671875\n",
      "===================\n",
      "model_saved/best_model_smaller_resnet_sigmoid_epoch1_test_fold_index4.ds2-2 \n",
      " 0.8515625\n",
      "===================\n",
      "model_saved/best_model_smaller_resnet_sigmoid_epoch0_test_fold_index4.ds2-2 \n",
      " 0.87109375\n",
      "===================\n",
      "model_saved/best_model_smaller_resnet_sigmoid_epoch3_test_fold_index4.ds1-2 \n",
      " 0.859375\n",
      "===================\n",
      "+++++++++++++++++++++++++++++++++++++++++++++++++++\n"
     ]
    }
   ],
   "source": [
    "from model import model\n",
    "import glob\n",
    "import re\n",
    "device = torch.device(\"cpu\")\n",
    "\n",
    "results = []\n",
    "for idx in range(config.num_folds):\n",
    "    print('idx', idx)\n",
    "    config.test_fold_index = int(idx)\n",
    "    (\n",
    "        train_loader,\n",
    "        test_loader,\n",
    "        _,\n",
    "    ) = deepchest.dataset.get_data_loaders(config=config)\n",
    "    \n",
    "    checkpoint_path = os.path.join(\n",
    "        config.save_dir,\n",
    "        f\"best_model_smaller_resnet_sigmoid_epoch*_test_fold_index{idx}*\"\n",
    "    )\n",
    "    \n",
    "    list_checkpoints = glob.glob(checkpoint_path)\n",
    "    for file in list_checkpoints:\n",
    "        checkpoint = torch.load(file)\n",
    "\n",
    "        net = model.get_smaller_resnet()\n",
    "        net.load_state_dict(checkpoint['model_state_dict'])\n",
    "        _ = net.eval()\n",
    "\n",
    "        label_names = deepchest.utils.get_label_names(config.labels_file)\n",
    "        scores, labels = deepchest.utils.model_evaluation(net, test_loader, device)\n",
    "        train_metrics = deepchest.utils.compute_metrics(labels, scores, label_names)\n",
    "        results.append((file, train_metrics))\n",
    "        print(file, '\\n', train_metrics['roc_auc'],)\n",
    "        print(\"===================\")\n",
    "    print(\"+++++++++++++++++++++++++++++++++++++++++++++++++++\")\n",
    "    torch.save(results, 'results-ds1-1')\n",
    "    del train_loader\n",
    "    del test_loader"
   ]
  },
  {
   "cell_type": "code",
   "execution_count": 4,
   "metadata": {},
   "outputs": [
    {
     "name": "stdout",
     "output_type": "stream",
     "text": [
      "idx 2\n",
      "Split infos:\n"
     ]
    },
    {
     "data": {
      "text/html": [
       "<pre style=\"white-space:pre;overflow-x:auto;line-height:normal;font-family:Menlo,'DejaVu Sans Mono',consolas,'Courier New',monospace\">┏━━━━━━━┳━━━━━━┳━━━━━━━━━━┳━━━━━━━━━━┓\n",
       "┃<span style=\"font-weight: bold\"> split </span>┃<span style=\"font-weight: bold\"> size </span>┃<span style=\"font-weight: bold\"> negative </span>┃<span style=\"font-weight: bold\"> positive </span>┃\n",
       "┡━━━━━━━╇━━━━━━╇━━━━━━━━━━╇━━━━━━━━━━┩\n",
       "│ train │  129 │ 62 (48%) │ 67 (52%) │\n",
       "│ test  │   33 │ 16 (48%) │ 17 (52%) │\n",
       "└───────┴──────┴──────────┴──────────┘\n",
       "</pre>\n"
      ],
      "text/plain": [
       "<rich.jupyter.JupyterRenderable at 0x7fb5e685c3d0>"
      ]
     },
     "metadata": {},
     "output_type": "display_data"
    },
    {
     "name": "stdout",
     "output_type": "stream",
     "text": [
      "model_saved/best_model_smaller_resnet_sigmoid_epoch2_test_fold_index2.ds1-2 \n",
      " 0.5294117647058822\n",
      "===================\n",
      "model_saved/best_model_smaller_resnet_sigmoid_epoch1_test_fold_index2.ds1-1 \n",
      " 0.5036764705882353\n",
      "===================\n",
      "model_saved/best_model_smaller_resnet_sigmoid_epoch0_test_fold_index2.ds1-2 \n",
      " 0.5404411764705883\n",
      "===================\n",
      "model_saved/best_model_smaller_resnet_sigmoid_epoch3_test_fold_index2.ds1-2 \n",
      " 0.5294117647058824\n",
      "===================\n",
      "model_saved/best_model_smaller_resnet_sigmoid_epoch1_test_fold_index2.ds1-2 \n",
      " 0.5367647058823529\n",
      "===================\n",
      "model_saved/best_model_smaller_resnet_sigmoid_epoch2_test_fold_index2.ds1-1 \n",
      " 0.5110294117647058\n",
      "===================\n",
      "model_saved/best_model_smaller_resnet_sigmoid_epoch3_test_fold_index2.ds1-1 \n",
      " 0.5110294117647058\n",
      "===================\n",
      "model_saved/best_model_smaller_resnet_sigmoid_epoch0_test_fold_index2.ds1-1 \n",
      " 0.5036764705882353\n",
      "===================\n",
      "+++++++++++++++++++++++++++++++++++++++++++++++++++\n",
      "idx 3\n",
      "Split infos:\n"
     ]
    },
    {
     "data": {
      "text/html": [
       "<pre style=\"white-space:pre;overflow-x:auto;line-height:normal;font-family:Menlo,'DejaVu Sans Mono',consolas,'Courier New',monospace\">┏━━━━━━━┳━━━━━━┳━━━━━━━━━━┳━━━━━━━━━━┓\n",
       "┃<span style=\"font-weight: bold\"> split </span>┃<span style=\"font-weight: bold\"> size </span>┃<span style=\"font-weight: bold\"> negative </span>┃<span style=\"font-weight: bold\"> positive </span>┃\n",
       "┡━━━━━━━╇━━━━━━╇━━━━━━━━━━╇━━━━━━━━━━┩\n",
       "│ train │  129 │ 62 (48%) │ 67 (52%) │\n",
       "│ test  │   33 │ 16 (48%) │ 17 (52%) │\n",
       "└───────┴──────┴──────────┴──────────┘\n",
       "</pre>\n"
      ],
      "text/plain": [
       "<rich.jupyter.JupyterRenderable at 0x7fb5e681d510>"
      ]
     },
     "metadata": {},
     "output_type": "display_data"
    },
    {
     "name": "stdout",
     "output_type": "stream",
     "text": [
      "model_saved/best_model_smaller_resnet_sigmoid_epoch0_test_fold_index3.ds1-2 \n",
      " 0.8272058823529411\n",
      "===================\n",
      "model_saved/best_model_smaller_resnet_sigmoid_epoch0_test_fold_index3.ds2-2 \n",
      " 0.8235294117647058\n",
      "===================\n",
      "model_saved/best_model_smaller_resnet_sigmoid_epoch2_test_fold_index3.ds1-2 \n",
      " 0.8272058823529411\n",
      "===================\n",
      "model_saved/best_model_smaller_resnet_sigmoid_epoch2_test_fold_index3.ds2-2 \n",
      " 0.8419117647058824\n",
      "===================\n",
      "model_saved/best_model_smaller_resnet_sigmoid_epoch3_test_fold_index3.ds2-2 \n",
      " 0.8566176470588235\n",
      "===================\n",
      "model_saved/best_model_smaller_resnet_sigmoid_epoch1_test_fold_index3.ds1-2 \n",
      " 0.8235294117647058\n",
      "===================\n",
      "model_saved/best_model_smaller_resnet_sigmoid_epoch3_test_fold_index3.ds1-2 \n",
      " 0.8308823529411764\n",
      "===================\n",
      "model_saved/best_model_smaller_resnet_sigmoid_epoch1_test_fold_index3.ds2-2 \n",
      " 0.8308823529411764\n",
      "===================\n",
      "+++++++++++++++++++++++++++++++++++++++++++++++++++\n",
      "idx 4\n",
      "Split infos:\n"
     ]
    },
    {
     "data": {
      "text/html": [
       "<pre style=\"white-space:pre;overflow-x:auto;line-height:normal;font-family:Menlo,'DejaVu Sans Mono',consolas,'Courier New',monospace\">┏━━━━━━━┳━━━━━━┳━━━━━━━━━━┳━━━━━━━━━━┓\n",
       "┃<span style=\"font-weight: bold\"> split </span>┃<span style=\"font-weight: bold\"> size </span>┃<span style=\"font-weight: bold\"> negative </span>┃<span style=\"font-weight: bold\"> positive </span>┃\n",
       "┡━━━━━━━╇━━━━━━╇━━━━━━━━━━╇━━━━━━━━━━┩\n",
       "│ train │  130 │ 62 (48%) │ 68 (52%) │\n",
       "│ test  │   32 │ 16 (50%) │ 16 (50%) │\n",
       "└───────┴──────┴──────────┴──────────┘\n",
       "</pre>\n"
      ],
      "text/plain": [
       "<rich.jupyter.JupyterRenderable at 0x7fb5d941e2d0>"
      ]
     },
     "metadata": {},
     "output_type": "display_data"
    },
    {
     "name": "stdout",
     "output_type": "stream",
     "text": [
      "model_saved/best_model_smaller_resnet_sigmoid_epoch2_test_fold_index4.ds1-2 \n",
      " 0.86328125\n",
      "===================\n",
      "model_saved/best_model_smaller_resnet_sigmoid_epoch1_test_fold_index4.ds1-2 \n",
      " 0.87109375\n",
      "===================\n",
      "model_saved/best_model_smaller_resnet_sigmoid_epoch2_test_fold_index4.ds2-2 \n",
      " 0.85546875\n",
      "===================\n",
      "model_saved/best_model_smaller_resnet_sigmoid_epoch3_test_fold_index4.ds2-2 \n",
      " 0.859375\n",
      "===================\n",
      "model_saved/best_model_smaller_resnet_sigmoid_epoch0_test_fold_index4.ds1-2 \n",
      " 0.8671875\n",
      "===================\n",
      "model_saved/best_model_smaller_resnet_sigmoid_epoch1_test_fold_index4.ds2-2 \n",
      " 0.8671875\n",
      "===================\n",
      "model_saved/best_model_smaller_resnet_sigmoid_epoch0_test_fold_index4.ds2-2 \n",
      " 0.87109375\n",
      "===================\n",
      "model_saved/best_model_smaller_resnet_sigmoid_epoch3_test_fold_index4.ds1-2 \n",
      " 0.8671875\n",
      "===================\n",
      "+++++++++++++++++++++++++++++++++++++++++++++++++++\n"
     ]
    }
   ],
   "source": [
    "from model import model\n",
    "import glob\n",
    "import re\n",
    "device = torch.device(\"cpu\")\n",
    "\n",
    "results = torch.load('results')\n",
    "for idx in range(2, config.num_folds):\n",
    "    print('idx', idx)\n",
    "    config.test_fold_index = int(idx)\n",
    "    (\n",
    "        train_loader,\n",
    "        test_loader,\n",
    "        _,\n",
    "    ) = deepchest.dataset.get_data_loaders(config=config)\n",
    "    \n",
    "    checkpoint_path = os.path.join(\n",
    "        config.save_dir,\n",
    "        f\"best_model_smaller_resnet_sigmoid_epoch*_test_fold_index{idx}*\"\n",
    "    )\n",
    "    \n",
    "    list_checkpoints = glob.glob(checkpoint_path)\n",
    "    for file in list_checkpoints:\n",
    "        checkpoint = torch.load(file)\n",
    "\n",
    "        net = model.get_smaller_resnet()\n",
    "        net.load_state_dict(checkpoint['model_state_dict'])\n",
    "        _ = net.eval()\n",
    "\n",
    "        label_names = deepchest.utils.get_label_names(config.labels_file)\n",
    "        scores, labels = deepchest.utils.model_evaluation(net, test_loader, device)\n",
    "        train_metrics = deepchest.utils.compute_metrics(labels, scores, label_names)\n",
    "        results.append((file, train_metrics))\n",
    "        print(file, '\\n', train_metrics['roc_auc'],)\n",
    "        print(\"===================\")\n",
    "    print(\"+++++++++++++++++++++++++++++++++++++++++++++++++++\")\n",
    "    torch.save(results, 'results')\n",
    "    del train_loader\n",
    "    del test_loader"
   ]
  },
  {
   "cell_type": "code",
   "execution_count": 1,
   "metadata": {},
   "outputs": [],
   "source": [
    "import torch \n",
    "results = torch.load('results')\n"
   ]
  },
  {
   "cell_type": "code",
   "execution_count": 7,
   "metadata": {},
   "outputs": [
    {
     "name": "stdout",
     "output_type": "stream",
     "text": [
      "idx 0\n",
      "model_saved/best_model_smaller_resnet_sigmoid_epoch3_test_fold_index0.ds2-2 0.5\n",
      "model_saved/best_model_smaller_resnet_sigmoid_epoch0_test_fold_index0.ds2-2 0.5\n",
      "model_saved/best_model_smaller_resnet_sigmoid_epoch2_test_fold_index0.ds2-2 0.5\n",
      "model_saved/best_model_smaller_resnet_sigmoid_epoch1_test_fold_index0.ds2-2 0.5\n",
      "idx 1\n",
      "idx 2\n",
      "idx 3\n",
      "model_saved/best_model_smaller_resnet_sigmoid_epoch0_test_fold_index3.ds2-2 0.49816176470588236\n",
      "model_saved/best_model_smaller_resnet_sigmoid_epoch2_test_fold_index3.ds2-2 0.5\n",
      "model_saved/best_model_smaller_resnet_sigmoid_epoch3_test_fold_index3.ds2-2 0.5\n",
      "model_saved/best_model_smaller_resnet_sigmoid_epoch1_test_fold_index3.ds2-2 0.5\n",
      "idx 4\n",
      "model_saved/best_model_smaller_resnet_sigmoid_epoch2_test_fold_index4.ds2-2 0.5\n",
      "model_saved/best_model_smaller_resnet_sigmoid_epoch3_test_fold_index4.ds2-2 0.5\n",
      "model_saved/best_model_smaller_resnet_sigmoid_epoch1_test_fold_index4.ds2-2 0.53125\n",
      "model_saved/best_model_smaller_resnet_sigmoid_epoch0_test_fold_index4.ds2-2 0.5625\n"
     ]
    }
   ],
   "source": [
    "for idx in range(5):\n",
    "    print('idx', idx)\n",
    "    for r in results:\n",
    "        if f'index{idx}' in r[0] and 'ds2-2' in r[0]:\n",
    "            print(r[0], r[1]['balanced_accuracy'])"
   ]
  },
  {
   "cell_type": "code",
   "execution_count": 6,
   "metadata": {},
   "outputs": [
    {
     "data": {
      "text/plain": [
       "dict_keys(['loss', 'ece', 'true_positive', 'true_negative', 'false_negative', 'false_positive', 'balanced_accuracy', 'false_positive_rate', 'true_positive_rate', 'roc_auc', 'roc', 'mean_predicted_value', 'fraction_of_positives', 'ece_curve', 'labels', 'logits'])"
      ]
     },
     "execution_count": 6,
     "metadata": {},
     "output_type": "execute_result"
    }
   ],
   "source": [
    "train_metrics.keys()"
   ]
  }
 ],
 "metadata": {
  "interpreter": {
   "hash": "40d3a090f54c6569ab1632332b64b2c03c39dcf918b08424e98f38b5ae0af88f"
  },
  "kernelspec": {
   "display_name": "Python 3.7.6 64-bit ('base': conda)",
   "language": "python",
   "name": "python3"
  },
  "language_info": {
   "codemirror_mode": {
    "name": "ipython",
    "version": 3
   },
   "file_extension": ".py",
   "mimetype": "text/x-python",
   "name": "python",
   "nbconvert_exporter": "python",
   "pygments_lexer": "ipython3",
   "version": "3.7.6"
  },
  "orig_nbformat": 4
 },
 "nbformat": 4,
 "nbformat_minor": 2
}
